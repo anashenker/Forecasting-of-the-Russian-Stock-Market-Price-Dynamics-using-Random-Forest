{
 "cells": [
  {
   "cell_type": "markdown",
   "metadata": {},
   "source": [
    "# Прогнозирование динамики фондовых рынков с помощью Random Forest"
   ]
  },
  {
   "cell_type": "markdown",
   "metadata": {},
   "source": [
    "### Подготовка данных"
   ]
  },
  {
   "cell_type": "code",
   "execution_count": null,
   "metadata": {},
   "outputs": [],
   "source": [
    "import pandas as pd\n",
    "import numpy as np"
   ]
  },
  {
   "cell_type": "code",
   "execution_count": 5,
   "metadata": {},
   "outputs": [
    {
     "data": {
      "text/plain": [
       "'/Users/shenker'"
      ]
     },
     "execution_count": 5,
     "metadata": {},
     "output_type": "execute_result"
    }
   ],
   "source": [
    "import os\n",
    "os.getcwd()"
   ]
  },
  {
   "cell_type": "markdown",
   "metadata": {},
   "source": [
    "Импорт данных"
   ]
  },
  {
   "cell_type": "code",
   "execution_count": 256,
   "metadata": {},
   "outputs": [],
   "source": [
    "data = pd.read_csv('IMOEX.csv', sep=';')"
   ]
  },
  {
   "cell_type": "code",
   "execution_count": 605,
   "metadata": {},
   "outputs": [
    {
     "data": {
      "text/html": [
       "<div>\n",
       "<style scoped>\n",
       "    .dataframe tbody tr th:only-of-type {\n",
       "        vertical-align: middle;\n",
       "    }\n",
       "\n",
       "    .dataframe tbody tr th {\n",
       "        vertical-align: top;\n",
       "    }\n",
       "\n",
       "    .dataframe thead th {\n",
       "        text-align: right;\n",
       "    }\n",
       "</style>\n",
       "<table border=\"1\" class=\"dataframe\">\n",
       "  <thead>\n",
       "    <tr style=\"text-align: right;\">\n",
       "      <th></th>\n",
       "      <th>PRICE</th>\n",
       "      <th>DATE</th>\n",
       "    </tr>\n",
       "  </thead>\n",
       "  <tbody>\n",
       "    <tr>\n",
       "      <th>699</th>\n",
       "      <td>2707.89</td>\n",
       "      <td>08.10.2019</td>\n",
       "    </tr>\n",
       "  </tbody>\n",
       "</table>\n",
       "</div>"
      ],
      "text/plain": [
       "       PRICE        DATE\n",
       "699  2707.89  08.10.2019"
      ]
     },
     "execution_count": 605,
     "metadata": {},
     "output_type": "execute_result"
    }
   ],
   "source": [
    "data[699:700]"
   ]
  },
  {
   "cell_type": "markdown",
   "metadata": {},
   "source": [
    "Создание столбца RETURN"
   ]
  },
  {
   "cell_type": "code",
   "execution_count": 630,
   "metadata": {},
   "outputs": [],
   "source": [
    "ret = [0]\n",
    "for i in range(1, len(data['PRICE'])):\n",
    "    r = (data['PRICE'][i] - data['PRICE'][i - 1]) / data['PRICE'][i-1]\n",
    "    ret.append(r)"
   ]
  },
  {
   "cell_type": "code",
   "execution_count": 631,
   "metadata": {},
   "outputs": [],
   "source": [
    "data['RETURN'] = ret"
   ]
  },
  {
   "cell_type": "markdown",
   "metadata": {},
   "source": [
    "Создаем таблицу, в которой будут храниться переменные для модели"
   ]
  },
  {
   "cell_type": "code",
   "execution_count": 262,
   "metadata": {},
   "outputs": [],
   "source": [
    "imoex = pd.DataFrame()"
   ]
  },
  {
   "cell_type": "code",
   "execution_count": 266,
   "metadata": {},
   "outputs": [
    {
     "data": {
      "text/html": [
       "<div>\n",
       "<style scoped>\n",
       "    .dataframe tbody tr th:only-of-type {\n",
       "        vertical-align: middle;\n",
       "    }\n",
       "\n",
       "    .dataframe tbody tr th {\n",
       "        vertical-align: top;\n",
       "    }\n",
       "\n",
       "    .dataframe thead th {\n",
       "        text-align: right;\n",
       "    }\n",
       "</style>\n",
       "<table border=\"1\" class=\"dataframe\">\n",
       "  <thead>\n",
       "    <tr style=\"text-align: right;\">\n",
       "      <th></th>\n",
       "      <th>CLASS</th>\n",
       "    </tr>\n",
       "  </thead>\n",
       "  <tbody>\n",
       "    <tr>\n",
       "      <th>0</th>\n",
       "      <td>1</td>\n",
       "    </tr>\n",
       "    <tr>\n",
       "      <th>1</th>\n",
       "      <td>-1</td>\n",
       "    </tr>\n",
       "    <tr>\n",
       "      <th>2</th>\n",
       "      <td>-1</td>\n",
       "    </tr>\n",
       "    <tr>\n",
       "      <th>3</th>\n",
       "      <td>-1</td>\n",
       "    </tr>\n",
       "    <tr>\n",
       "      <th>4</th>\n",
       "      <td>-1</td>\n",
       "    </tr>\n",
       "  </tbody>\n",
       "</table>\n",
       "</div>"
      ],
      "text/plain": [
       "   CLASS\n",
       "0      1\n",
       "1     -1\n",
       "2     -1\n",
       "3     -1\n",
       "4     -1"
      ]
     },
     "execution_count": 266,
     "metadata": {},
     "output_type": "execute_result"
    }
   ],
   "source": [
    "imoex.head()"
   ]
  },
  {
   "cell_type": "markdown",
   "metadata": {},
   "source": [
    "Создание столбца CLASS"
   ]
  },
  {
   "cell_type": "code",
   "execution_count": 55,
   "metadata": {},
   "outputs": [],
   "source": [
    "clas = [1]\n",
    "for i in range(1, len(data['RETURN'])):\n",
    "    if data['RETURN'][i] < 0:\n",
    "        c = -1\n",
    "    else:\n",
    "        c = 1\n",
    "    clas.append(c)"
   ]
  },
  {
   "cell_type": "code",
   "execution_count": 265,
   "metadata": {},
   "outputs": [],
   "source": [
    "imoex['CLASS'] = clas"
   ]
  },
  {
   "cell_type": "markdown",
   "metadata": {},
   "source": [
    "Создание переменной RSI"
   ]
  },
  {
   "cell_type": "code",
   "execution_count": 268,
   "metadata": {},
   "outputs": [],
   "source": [
    "rsi = pd.DataFrame(data['PRICE'])"
   ]
  },
  {
   "cell_type": "code",
   "execution_count": 269,
   "metadata": {},
   "outputs": [],
   "source": [
    "gain = [0]\n",
    "loss = [0]\n",
    "for i in range(1, len(data['PRICE'])):\n",
    "    dif = data['PRICE'][i] - data['PRICE'][i - 1]\n",
    "    if dif > 0:\n",
    "        g = dif\n",
    "        l = 0\n",
    "    else:\n",
    "        g = 0\n",
    "        l = - dif\n",
    "    gain.append(g)\n",
    "    loss.append(l)"
   ]
  },
  {
   "cell_type": "code",
   "execution_count": 270,
   "metadata": {},
   "outputs": [],
   "source": [
    "rsi['GAIN'] = gain\n",
    "rsi['LOSS'] = loss"
   ]
  },
  {
   "cell_type": "code",
   "execution_count": 271,
   "metadata": {},
   "outputs": [
    {
     "data": {
      "text/html": [
       "<div>\n",
       "<style scoped>\n",
       "    .dataframe tbody tr th:only-of-type {\n",
       "        vertical-align: middle;\n",
       "    }\n",
       "\n",
       "    .dataframe tbody tr th {\n",
       "        vertical-align: top;\n",
       "    }\n",
       "\n",
       "    .dataframe thead th {\n",
       "        text-align: right;\n",
       "    }\n",
       "</style>\n",
       "<table border=\"1\" class=\"dataframe\">\n",
       "  <thead>\n",
       "    <tr style=\"text-align: right;\">\n",
       "      <th></th>\n",
       "      <th>PRICE</th>\n",
       "      <th>GAIN</th>\n",
       "      <th>LOSS</th>\n",
       "    </tr>\n",
       "  </thead>\n",
       "  <tbody>\n",
       "    <tr>\n",
       "      <th>0</th>\n",
       "      <td>2285.43</td>\n",
       "      <td>0.00</td>\n",
       "      <td>0.00</td>\n",
       "    </tr>\n",
       "    <tr>\n",
       "      <th>1</th>\n",
       "      <td>2263.90</td>\n",
       "      <td>0.00</td>\n",
       "      <td>21.53</td>\n",
       "    </tr>\n",
       "    <tr>\n",
       "      <th>2</th>\n",
       "      <td>2220.35</td>\n",
       "      <td>0.00</td>\n",
       "      <td>43.55</td>\n",
       "    </tr>\n",
       "    <tr>\n",
       "      <th>3</th>\n",
       "      <td>2213.93</td>\n",
       "      <td>0.00</td>\n",
       "      <td>6.42</td>\n",
       "    </tr>\n",
       "    <tr>\n",
       "      <th>4</th>\n",
       "      <td>2211.25</td>\n",
       "      <td>0.00</td>\n",
       "      <td>2.68</td>\n",
       "    </tr>\n",
       "    <tr>\n",
       "      <th>...</th>\n",
       "      <td>...</td>\n",
       "      <td>...</td>\n",
       "      <td>...</td>\n",
       "    </tr>\n",
       "    <tr>\n",
       "      <th>814</th>\n",
       "      <td>2489.97</td>\n",
       "      <td>37.28</td>\n",
       "      <td>0.00</td>\n",
       "    </tr>\n",
       "    <tr>\n",
       "      <th>815</th>\n",
       "      <td>2401.11</td>\n",
       "      <td>0.00</td>\n",
       "      <td>88.86</td>\n",
       "    </tr>\n",
       "    <tr>\n",
       "      <th>816</th>\n",
       "      <td>2433.35</td>\n",
       "      <td>32.24</td>\n",
       "      <td>0.00</td>\n",
       "    </tr>\n",
       "    <tr>\n",
       "      <th>817</th>\n",
       "      <td>2508.81</td>\n",
       "      <td>75.46</td>\n",
       "      <td>0.00</td>\n",
       "    </tr>\n",
       "    <tr>\n",
       "      <th>818</th>\n",
       "      <td>2473.61</td>\n",
       "      <td>0.00</td>\n",
       "      <td>35.20</td>\n",
       "    </tr>\n",
       "  </tbody>\n",
       "</table>\n",
       "<p>819 rows × 3 columns</p>\n",
       "</div>"
      ],
      "text/plain": [
       "       PRICE   GAIN   LOSS\n",
       "0    2285.43   0.00   0.00\n",
       "1    2263.90   0.00  21.53\n",
       "2    2220.35   0.00  43.55\n",
       "3    2213.93   0.00   6.42\n",
       "4    2211.25   0.00   2.68\n",
       "..       ...    ...    ...\n",
       "814  2489.97  37.28   0.00\n",
       "815  2401.11   0.00  88.86\n",
       "816  2433.35  32.24   0.00\n",
       "817  2508.81  75.46   0.00\n",
       "818  2473.61   0.00  35.20\n",
       "\n",
       "[819 rows x 3 columns]"
      ]
     },
     "execution_count": 271,
     "metadata": {},
     "output_type": "execute_result"
    }
   ],
   "source": [
    "rsi"
   ]
  },
  {
   "cell_type": "code",
   "execution_count": 272,
   "metadata": {},
   "outputs": [],
   "source": [
    "avgain = [0] * 14\n",
    "avloss = [0] * 14\n",
    "\n",
    "for i in range(14, len(rsi['GAIN'])):\n",
    "    ag = np.mean(rsi['GAIN'][i - 14 : i])\n",
    "    avgain.append(ag)\n",
    "\n",
    "for i in range(14, len(rsi['LOSS'])):\n",
    "    al = np.mean(rsi['LOSS'][i - 14 : i])\n",
    "    avloss.append(al)"
   ]
  },
  {
   "cell_type": "code",
   "execution_count": 273,
   "metadata": {},
   "outputs": [],
   "source": [
    "rsi['AVERAGE GAIN'] = avgain\n",
    "rsi['AVERAGE LOSS'] = avloss"
   ]
  },
  {
   "cell_type": "code",
   "execution_count": 274,
   "metadata": {},
   "outputs": [],
   "source": [
    "rsi['RS'] = rsi['AVERAGE GAIN'] / rsi['AVERAGE LOSS']\n",
    "rsi['RSI'] = 100 - (100 / (1 + rsi['RS']))"
   ]
  },
  {
   "cell_type": "markdown",
   "metadata": {},
   "source": [
    "Добавляем переменную RSI в таблицу imoex"
   ]
  },
  {
   "cell_type": "code",
   "execution_count": 275,
   "metadata": {},
   "outputs": [],
   "source": [
    "imoex['RSI'] = rsi['RSI']"
   ]
  },
  {
   "cell_type": "markdown",
   "metadata": {},
   "source": [
    "Создаем переменные Stochastic Oscillator и Williams Percentage Range"
   ]
  },
  {
   "cell_type": "code",
   "execution_count": 276,
   "metadata": {},
   "outputs": [],
   "source": [
    "so = pd.DataFrame(data['PRICE'])"
   ]
  },
  {
   "cell_type": "code",
   "execution_count": 417,
   "metadata": {},
   "outputs": [
    {
     "data": {
      "text/html": [
       "<div>\n",
       "<style scoped>\n",
       "    .dataframe tbody tr th:only-of-type {\n",
       "        vertical-align: middle;\n",
       "    }\n",
       "\n",
       "    .dataframe tbody tr th {\n",
       "        vertical-align: top;\n",
       "    }\n",
       "\n",
       "    .dataframe thead th {\n",
       "        text-align: right;\n",
       "    }\n",
       "</style>\n",
       "<table border=\"1\" class=\"dataframe\">\n",
       "  <thead>\n",
       "    <tr style=\"text-align: right;\">\n",
       "      <th></th>\n",
       "      <th>PRICE</th>\n",
       "      <th>L14</th>\n",
       "      <th>H14</th>\n",
       "      <th>SCH</th>\n",
       "      <th>WPR</th>\n",
       "    </tr>\n",
       "  </thead>\n",
       "  <tbody>\n",
       "    <tr>\n",
       "      <th>0</th>\n",
       "      <td>2285.43</td>\n",
       "      <td>0.00</td>\n",
       "      <td>0.00</td>\n",
       "      <td>inf</td>\n",
       "      <td>inf</td>\n",
       "    </tr>\n",
       "    <tr>\n",
       "      <th>1</th>\n",
       "      <td>2263.90</td>\n",
       "      <td>0.00</td>\n",
       "      <td>0.00</td>\n",
       "      <td>inf</td>\n",
       "      <td>inf</td>\n",
       "    </tr>\n",
       "    <tr>\n",
       "      <th>2</th>\n",
       "      <td>2220.35</td>\n",
       "      <td>0.00</td>\n",
       "      <td>0.00</td>\n",
       "      <td>inf</td>\n",
       "      <td>inf</td>\n",
       "    </tr>\n",
       "    <tr>\n",
       "      <th>3</th>\n",
       "      <td>2213.93</td>\n",
       "      <td>0.00</td>\n",
       "      <td>0.00</td>\n",
       "      <td>inf</td>\n",
       "      <td>inf</td>\n",
       "    </tr>\n",
       "    <tr>\n",
       "      <th>4</th>\n",
       "      <td>2211.25</td>\n",
       "      <td>0.00</td>\n",
       "      <td>0.00</td>\n",
       "      <td>inf</td>\n",
       "      <td>inf</td>\n",
       "    </tr>\n",
       "    <tr>\n",
       "      <th>5</th>\n",
       "      <td>2237.49</td>\n",
       "      <td>0.00</td>\n",
       "      <td>0.00</td>\n",
       "      <td>inf</td>\n",
       "      <td>inf</td>\n",
       "    </tr>\n",
       "    <tr>\n",
       "      <th>6</th>\n",
       "      <td>2218.61</td>\n",
       "      <td>0.00</td>\n",
       "      <td>0.00</td>\n",
       "      <td>inf</td>\n",
       "      <td>inf</td>\n",
       "    </tr>\n",
       "    <tr>\n",
       "      <th>7</th>\n",
       "      <td>2212.00</td>\n",
       "      <td>0.00</td>\n",
       "      <td>0.00</td>\n",
       "      <td>inf</td>\n",
       "      <td>inf</td>\n",
       "    </tr>\n",
       "    <tr>\n",
       "      <th>8</th>\n",
       "      <td>2195.19</td>\n",
       "      <td>0.00</td>\n",
       "      <td>0.00</td>\n",
       "      <td>inf</td>\n",
       "      <td>inf</td>\n",
       "    </tr>\n",
       "    <tr>\n",
       "      <th>9</th>\n",
       "      <td>2189.07</td>\n",
       "      <td>0.00</td>\n",
       "      <td>0.00</td>\n",
       "      <td>inf</td>\n",
       "      <td>inf</td>\n",
       "    </tr>\n",
       "    <tr>\n",
       "      <th>10</th>\n",
       "      <td>2178.73</td>\n",
       "      <td>0.00</td>\n",
       "      <td>0.00</td>\n",
       "      <td>inf</td>\n",
       "      <td>inf</td>\n",
       "    </tr>\n",
       "    <tr>\n",
       "      <th>11</th>\n",
       "      <td>2170.09</td>\n",
       "      <td>0.00</td>\n",
       "      <td>0.00</td>\n",
       "      <td>inf</td>\n",
       "      <td>inf</td>\n",
       "    </tr>\n",
       "    <tr>\n",
       "      <th>12</th>\n",
       "      <td>2162.25</td>\n",
       "      <td>0.00</td>\n",
       "      <td>0.00</td>\n",
       "      <td>inf</td>\n",
       "      <td>inf</td>\n",
       "    </tr>\n",
       "    <tr>\n",
       "      <th>13</th>\n",
       "      <td>2159.96</td>\n",
       "      <td>0.00</td>\n",
       "      <td>0.00</td>\n",
       "      <td>inf</td>\n",
       "      <td>inf</td>\n",
       "    </tr>\n",
       "    <tr>\n",
       "      <th>14</th>\n",
       "      <td>2146.09</td>\n",
       "      <td>2159.96</td>\n",
       "      <td>2285.43</td>\n",
       "      <td>-11.054435</td>\n",
       "      <td>-111.054435</td>\n",
       "    </tr>\n",
       "  </tbody>\n",
       "</table>\n",
       "</div>"
      ],
      "text/plain": [
       "      PRICE      L14      H14        SCH         WPR\n",
       "0   2285.43     0.00     0.00        inf         inf\n",
       "1   2263.90     0.00     0.00        inf         inf\n",
       "2   2220.35     0.00     0.00        inf         inf\n",
       "3   2213.93     0.00     0.00        inf         inf\n",
       "4   2211.25     0.00     0.00        inf         inf\n",
       "5   2237.49     0.00     0.00        inf         inf\n",
       "6   2218.61     0.00     0.00        inf         inf\n",
       "7   2212.00     0.00     0.00        inf         inf\n",
       "8   2195.19     0.00     0.00        inf         inf\n",
       "9   2189.07     0.00     0.00        inf         inf\n",
       "10  2178.73     0.00     0.00        inf         inf\n",
       "11  2170.09     0.00     0.00        inf         inf\n",
       "12  2162.25     0.00     0.00        inf         inf\n",
       "13  2159.96     0.00     0.00        inf         inf\n",
       "14  2146.09  2159.96  2285.43 -11.054435 -111.054435"
      ]
     },
     "execution_count": 417,
     "metadata": {},
     "output_type": "execute_result"
    }
   ],
   "source": [
    "so.head(15)"
   ]
  },
  {
   "cell_type": "code",
   "execution_count": 278,
   "metadata": {},
   "outputs": [],
   "source": [
    "lowest = [0] * 14\n",
    "highest = [0] * 14\n",
    "\n",
    "for i in range(14, len(so['PRICE'])):\n",
    "    l = min(so['PRICE'][i - 14 : i])\n",
    "    lowest.append(l)\n",
    "    \n",
    "for i in range(14, len(so['PRICE'])):\n",
    "    h = max(so['PRICE'][i - 14 : i])\n",
    "    highest.append(h)"
   ]
  },
  {
   "cell_type": "code",
   "execution_count": 279,
   "metadata": {},
   "outputs": [],
   "source": [
    "so['L14'] = lowest\n",
    "so['H14'] = highest"
   ]
  },
  {
   "cell_type": "code",
   "execution_count": 280,
   "metadata": {},
   "outputs": [],
   "source": [
    "so['SCH'] = 100 * ((so['PRICE'] - so['L14']) / (so['H14'] - so['L14']))\n",
    "so['WPR'] = -100 * ((so['H14'] - so['PRICE']) / (so['H14'] - so['L14']))"
   ]
  },
  {
   "cell_type": "markdown",
   "metadata": {},
   "source": [
    "Добавляем переменные Stochastic Oscillator и Williams Percentage Range в таблицу imoex"
   ]
  },
  {
   "cell_type": "code",
   "execution_count": 281,
   "metadata": {},
   "outputs": [],
   "source": [
    "imoex['SCH'] = so['SCH']\n",
    "imoex['WPR'] = so['WPR']"
   ]
  },
  {
   "cell_type": "markdown",
   "metadata": {},
   "source": [
    "Добавляем переменную PROC"
   ]
  },
  {
   "cell_type": "code",
   "execution_count": 282,
   "metadata": {},
   "outputs": [],
   "source": [
    "n = 20\n",
    "proc = [0] * 20\n",
    "\n",
    "for i in range(20, len(data['PRICE'])):\n",
    "    pr = (data['PRICE'][i] - data['PRICE'][i - n]) / data['PRICE'][i - n]\n",
    "    proc.append(pr)\n",
    "\n",
    "imoex['PROC'] = proc"
   ]
  },
  {
   "cell_type": "markdown",
   "metadata": {},
   "source": [
    "Рассчитываем индекс MACD"
   ]
  },
  {
   "cell_type": "code",
   "execution_count": 283,
   "metadata": {},
   "outputs": [],
   "source": [
    "macd = pd.DataFrame(data['PRICE'])"
   ]
  },
  {
   "cell_type": "code",
   "execution_count": 418,
   "metadata": {},
   "outputs": [
    {
     "data": {
      "text/html": [
       "<div>\n",
       "<style scoped>\n",
       "    .dataframe tbody tr th:only-of-type {\n",
       "        vertical-align: middle;\n",
       "    }\n",
       "\n",
       "    .dataframe tbody tr th {\n",
       "        vertical-align: top;\n",
       "    }\n",
       "\n",
       "    .dataframe thead th {\n",
       "        text-align: right;\n",
       "    }\n",
       "</style>\n",
       "<table border=\"1\" class=\"dataframe\">\n",
       "  <thead>\n",
       "    <tr style=\"text-align: right;\">\n",
       "      <th></th>\n",
       "      <th>PRICE</th>\n",
       "      <th>EMA12</th>\n",
       "      <th>EMA26</th>\n",
       "      <th>MACD</th>\n",
       "    </tr>\n",
       "  </thead>\n",
       "  <tbody>\n",
       "    <tr>\n",
       "      <th>0</th>\n",
       "      <td>2285.43</td>\n",
       "      <td>2285.430000</td>\n",
       "      <td>2285.430000</td>\n",
       "      <td>0.000000</td>\n",
       "    </tr>\n",
       "    <tr>\n",
       "      <th>1</th>\n",
       "      <td>2263.90</td>\n",
       "      <td>2273.767917</td>\n",
       "      <td>2274.250962</td>\n",
       "      <td>-0.483045</td>\n",
       "    </tr>\n",
       "    <tr>\n",
       "      <th>2</th>\n",
       "      <td>2220.35</td>\n",
       "      <td>2252.918891</td>\n",
       "      <td>2254.884869</td>\n",
       "      <td>-1.965978</td>\n",
       "    </tr>\n",
       "    <tr>\n",
       "      <th>3</th>\n",
       "      <td>2213.93</td>\n",
       "      <td>2240.611622</td>\n",
       "      <td>2243.435678</td>\n",
       "      <td>-2.824055</td>\n",
       "    </tr>\n",
       "    <tr>\n",
       "      <th>4</th>\n",
       "      <td>2211.25</td>\n",
       "      <td>2232.634174</td>\n",
       "      <td>2235.971686</td>\n",
       "      <td>-3.337512</td>\n",
       "    </tr>\n",
       "  </tbody>\n",
       "</table>\n",
       "</div>"
      ],
      "text/plain": [
       "     PRICE        EMA12        EMA26      MACD\n",
       "0  2285.43  2285.430000  2285.430000  0.000000\n",
       "1  2263.90  2273.767917  2274.250962 -0.483045\n",
       "2  2220.35  2252.918891  2254.884869 -1.965978\n",
       "3  2213.93  2240.611622  2243.435678 -2.824055\n",
       "4  2211.25  2232.634174  2235.971686 -3.337512"
      ]
     },
     "execution_count": 418,
     "metadata": {},
     "output_type": "execute_result"
    }
   ],
   "source": [
    "macd.head()"
   ]
  },
  {
   "cell_type": "code",
   "execution_count": 285,
   "metadata": {},
   "outputs": [],
   "source": [
    "exp1 = macd.ewm(span=12).mean()\n",
    "exp2 = macd.ewm(span=26).mean()\n",
    "\n",
    "macd['EMA12'] = exp1\n",
    "macd['EMA26'] = exp2\n",
    "\n",
    "macd['MACD'] = macd['EMA12'] - macd['EMA26']"
   ]
  },
  {
   "cell_type": "markdown",
   "metadata": {},
   "source": [
    "Добавляем переменную MACD в таблицу imoex"
   ]
  },
  {
   "cell_type": "code",
   "execution_count": 286,
   "metadata": {},
   "outputs": [],
   "source": [
    "imoex['MACD'] = macd['MACD']"
   ]
  },
  {
   "cell_type": "markdown",
   "metadata": {},
   "source": [
    "Формируем окончательный датасет"
   ]
  },
  {
   "cell_type": "code",
   "execution_count": 287,
   "metadata": {},
   "outputs": [
    {
     "data": {
      "text/html": [
       "<div>\n",
       "<style scoped>\n",
       "    .dataframe tbody tr th:only-of-type {\n",
       "        vertical-align: middle;\n",
       "    }\n",
       "\n",
       "    .dataframe tbody tr th {\n",
       "        vertical-align: top;\n",
       "    }\n",
       "\n",
       "    .dataframe thead th {\n",
       "        text-align: right;\n",
       "    }\n",
       "</style>\n",
       "<table border=\"1\" class=\"dataframe\">\n",
       "  <thead>\n",
       "    <tr style=\"text-align: right;\">\n",
       "      <th></th>\n",
       "      <th>CLASS</th>\n",
       "      <th>RSI</th>\n",
       "      <th>SCH</th>\n",
       "      <th>WPR</th>\n",
       "      <th>PROC</th>\n",
       "      <th>MACD</th>\n",
       "    </tr>\n",
       "  </thead>\n",
       "  <tbody>\n",
       "    <tr>\n",
       "      <th>0</th>\n",
       "      <td>1</td>\n",
       "      <td>NaN</td>\n",
       "      <td>inf</td>\n",
       "      <td>inf</td>\n",
       "      <td>0.0</td>\n",
       "      <td>0.000000</td>\n",
       "    </tr>\n",
       "    <tr>\n",
       "      <th>1</th>\n",
       "      <td>-1</td>\n",
       "      <td>NaN</td>\n",
       "      <td>inf</td>\n",
       "      <td>inf</td>\n",
       "      <td>0.0</td>\n",
       "      <td>-0.483045</td>\n",
       "    </tr>\n",
       "    <tr>\n",
       "      <th>2</th>\n",
       "      <td>-1</td>\n",
       "      <td>NaN</td>\n",
       "      <td>inf</td>\n",
       "      <td>inf</td>\n",
       "      <td>0.0</td>\n",
       "      <td>-1.965978</td>\n",
       "    </tr>\n",
       "    <tr>\n",
       "      <th>3</th>\n",
       "      <td>-1</td>\n",
       "      <td>NaN</td>\n",
       "      <td>inf</td>\n",
       "      <td>inf</td>\n",
       "      <td>0.0</td>\n",
       "      <td>-2.824055</td>\n",
       "    </tr>\n",
       "    <tr>\n",
       "      <th>4</th>\n",
       "      <td>-1</td>\n",
       "      <td>NaN</td>\n",
       "      <td>inf</td>\n",
       "      <td>inf</td>\n",
       "      <td>0.0</td>\n",
       "      <td>-3.337512</td>\n",
       "    </tr>\n",
       "  </tbody>\n",
       "</table>\n",
       "</div>"
      ],
      "text/plain": [
       "   CLASS  RSI  SCH  WPR  PROC      MACD\n",
       "0      1  NaN  inf  inf   0.0  0.000000\n",
       "1     -1  NaN  inf  inf   0.0 -0.483045\n",
       "2     -1  NaN  inf  inf   0.0 -1.965978\n",
       "3     -1  NaN  inf  inf   0.0 -2.824055\n",
       "4     -1  NaN  inf  inf   0.0 -3.337512"
      ]
     },
     "execution_count": 287,
     "metadata": {},
     "output_type": "execute_result"
    }
   ],
   "source": [
    "imoex.head()"
   ]
  },
  {
   "cell_type": "code",
   "execution_count": 288,
   "metadata": {},
   "outputs": [],
   "source": [
    "imoex = imoex.drop(index = range(20))"
   ]
  },
  {
   "cell_type": "code",
   "execution_count": 289,
   "metadata": {},
   "outputs": [],
   "source": [
    "imoex = imoex.reset_index().drop(columns=['index'])"
   ]
  },
  {
   "cell_type": "code",
   "execution_count": 535,
   "metadata": {},
   "outputs": [
    {
     "data": {
      "text/html": [
       "<div>\n",
       "<style scoped>\n",
       "    .dataframe tbody tr th:only-of-type {\n",
       "        vertical-align: middle;\n",
       "    }\n",
       "\n",
       "    .dataframe tbody tr th {\n",
       "        vertical-align: top;\n",
       "    }\n",
       "\n",
       "    .dataframe thead th {\n",
       "        text-align: right;\n",
       "    }\n",
       "</style>\n",
       "<table border=\"1\" class=\"dataframe\">\n",
       "  <thead>\n",
       "    <tr style=\"text-align: right;\">\n",
       "      <th></th>\n",
       "      <th>CLASS</th>\n",
       "      <th>RSI</th>\n",
       "      <th>SCH</th>\n",
       "      <th>WPR</th>\n",
       "      <th>PROC</th>\n",
       "      <th>MACD</th>\n",
       "    </tr>\n",
       "  </thead>\n",
       "  <tbody>\n",
       "    <tr>\n",
       "      <th>678</th>\n",
       "      <td>1</td>\n",
       "      <td>15.369583</td>\n",
       "      <td>20.785597</td>\n",
       "      <td>-79.214403</td>\n",
       "      <td>-0.024191</td>\n",
       "      <td>-8.645453</td>\n",
       "    </tr>\n",
       "    <tr>\n",
       "      <th>679</th>\n",
       "      <td>-1</td>\n",
       "      <td>26.677375</td>\n",
       "      <td>12.169774</td>\n",
       "      <td>-87.830226</td>\n",
       "      <td>-0.028567</td>\n",
       "      <td>-10.643008</td>\n",
       "    </tr>\n",
       "  </tbody>\n",
       "</table>\n",
       "</div>"
      ],
      "text/plain": [
       "     CLASS        RSI        SCH        WPR      PROC       MACD\n",
       "678      1  15.369583  20.785597 -79.214403 -0.024191  -8.645453\n",
       "679     -1  26.677375  12.169774 -87.830226 -0.028567 -10.643008"
      ]
     },
     "execution_count": 535,
     "metadata": {},
     "output_type": "execute_result"
    }
   ],
   "source": [
    "imoex[678:680]"
   ]
  },
  {
   "cell_type": "markdown",
   "metadata": {},
   "source": [
    "### Построение модели"
   ]
  },
  {
   "cell_type": "code",
   "execution_count": 299,
   "metadata": {},
   "outputs": [],
   "source": [
    "from sklearn.ensemble import RandomForestClassifier\n",
    "from sklearn.model_selection import train_test_split\n",
    "from sklearn.metrics import accuracy_score"
   ]
  },
  {
   "cell_type": "markdown",
   "metadata": {},
   "source": [
    "Переводим данные в массив numpy, разделяя зависимую и независимые переменные"
   ]
  },
  {
   "cell_type": "code",
   "execution_count": 524,
   "metadata": {},
   "outputs": [],
   "source": [
    "y = np.array(imoex['CLASS'])\n",
    "x = np.array(imoex.drop(columns=['CLASS']))"
   ]
  },
  {
   "cell_type": "markdown",
   "metadata": {},
   "source": [
    "Разделяем выборку на обучающую и тестовую выборки (train set и test set)"
   ]
  },
  {
   "cell_type": "code",
   "execution_count": 525,
   "metadata": {},
   "outputs": [],
   "source": [
    "train_x, test_x, train_y, test_y = train_test_split(x, y, test_size = 0.15, random_state = 42)"
   ]
  },
  {
   "cell_type": "code",
   "execution_count": 526,
   "metadata": {},
   "outputs": [
    {
     "data": {
      "text/plain": [
       "(120, 5)"
      ]
     },
     "execution_count": 526,
     "metadata": {},
     "output_type": "execute_result"
    }
   ],
   "source": [
    "test_x.shape"
   ]
  },
  {
   "cell_type": "markdown",
   "metadata": {},
   "source": [
    "Создаем и обучаем модель"
   ]
  },
  {
   "cell_type": "code",
   "execution_count": 527,
   "metadata": {},
   "outputs": [],
   "source": [
    "rf = RandomForestClassifier(max_depth=3, n_estimators=200, random_state = 42)"
   ]
  },
  {
   "cell_type": "code",
   "execution_count": 528,
   "metadata": {},
   "outputs": [
    {
     "data": {
      "text/plain": [
       "RandomForestClassifier(bootstrap=True, ccp_alpha=0.0, class_weight=None,\n",
       "                       criterion='gini', max_depth=3, max_features='auto',\n",
       "                       max_leaf_nodes=None, max_samples=None,\n",
       "                       min_impurity_decrease=0.0, min_impurity_split=None,\n",
       "                       min_samples_leaf=1, min_samples_split=2,\n",
       "                       min_weight_fraction_leaf=0.0, n_estimators=200,\n",
       "                       n_jobs=None, oob_score=False, random_state=42, verbose=0,\n",
       "                       warm_start=False)"
      ]
     },
     "execution_count": 528,
     "metadata": {},
     "output_type": "execute_result"
    }
   ],
   "source": [
    "rf.fit(train_x, train_y)"
   ]
  },
  {
   "cell_type": "code",
   "execution_count": null,
   "metadata": {},
   "outputs": [],
   "source": []
  },
  {
   "cell_type": "markdown",
   "metadata": {},
   "source": [
    "Проверяем на тестовой выборке"
   ]
  },
  {
   "cell_type": "code",
   "execution_count": 529,
   "metadata": {},
   "outputs": [
    {
     "name": "stdout",
     "output_type": "stream",
     "text": [
      "0.8083333333333333\n"
     ]
    }
   ],
   "source": [
    "predict = rf.predict(test_x)\n",
    "accuracy = accuracy_score(test_y, predict)\n",
    "print(accuracy)"
   ]
  },
  {
   "cell_type": "markdown",
   "metadata": {},
   "source": [
    "Сохраняем прогноз"
   ]
  },
  {
   "cell_type": "code",
   "execution_count": 530,
   "metadata": {},
   "outputs": [
    {
     "data": {
      "text/plain": [
       "array([ 1, -1,  1,  1,  1, -1, -1,  1, -1,  1,  1,  1,  1, -1, -1,  1,  1,\n",
       "        1,  1,  1, -1,  1, -1,  1,  1,  1,  1,  1, -1, -1, -1, -1, -1, -1,\n",
       "        1,  1, -1,  1,  1,  1,  1, -1, -1, -1,  1,  1,  1,  1, -1, -1,  1,\n",
       "        1, -1,  1,  1, -1,  1, -1, -1, -1, -1, -1,  1,  1,  1, -1, -1, -1,\n",
       "       -1, -1, -1,  1,  1,  1,  1, -1, -1,  1,  1,  1, -1, -1, -1, -1, -1,\n",
       "       -1, -1, -1,  1,  1, -1,  1,  1,  1,  1,  1, -1, -1, -1, -1, -1,  1,\n",
       "        1,  1, -1, -1,  1, -1,  1, -1, -1, -1,  1, -1,  1,  1,  1, -1, -1,\n",
       "        1])"
      ]
     },
     "execution_count": 530,
     "metadata": {},
     "output_type": "execute_result"
    }
   ],
   "source": [
    "predict = rf.predict(test_x)\n",
    "predict"
   ]
  },
  {
   "cell_type": "markdown",
   "metadata": {},
   "source": [
    "Выбираем лучшие параметры"
   ]
  },
  {
   "cell_type": "code",
   "execution_count": 514,
   "metadata": {},
   "outputs": [],
   "source": [
    "from sklearn.model_selection import GridSearchCV"
   ]
  },
  {
   "cell_type": "code",
   "execution_count": 515,
   "metadata": {},
   "outputs": [
    {
     "data": {
      "text/plain": [
       "GridSearchCV(cv=3, error_score=nan,\n",
       "             estimator=RandomForestClassifier(bootstrap=True, ccp_alpha=0.0,\n",
       "                                              class_weight=None,\n",
       "                                              criterion='gini', max_depth=None,\n",
       "                                              max_features='auto',\n",
       "                                              max_leaf_nodes=None,\n",
       "                                              max_samples=None,\n",
       "                                              min_impurity_decrease=0.0,\n",
       "                                              min_impurity_split=None,\n",
       "                                              min_samples_leaf=1,\n",
       "                                              min_samples_split=2,\n",
       "                                              min_weight_fraction_leaf=0.0,\n",
       "                                              n_estimators=100, n_jobs=-1,\n",
       "                                              oob_score=False, random_state=42,\n",
       "                                              verbose=0, warm_start=False),\n",
       "             iid='deprecated', n_jobs=-1,\n",
       "             param_grid={'max_depth': [3, 5, 7, 10, 20, 30],\n",
       "                         'n_estimators': [10, 100, 200, 500, 1000, 1500]},\n",
       "             pre_dispatch='2*n_jobs', refit=True, return_train_score=False,\n",
       "             scoring=None, verbose=0)"
      ]
     },
     "execution_count": 515,
     "metadata": {},
     "output_type": "execute_result"
    }
   ],
   "source": [
    "params = {'max_depth': [3,5,7,10,20,30], \n",
    "          'n_estimators': [10, 100, 200, 500, 1000, 1500]}\n",
    "rf = RandomForestClassifier(random_state = 42, n_jobs=-1)\n",
    "grid_search = GridSearchCV(estimator = rf, param_grid = params, cv = 3, n_jobs = -1)\n",
    "grid_search.fit(train_x, train_y)"
   ]
  },
  {
   "cell_type": "code",
   "execution_count": 516,
   "metadata": {},
   "outputs": [
    {
     "data": {
      "text/plain": [
       "{'max_depth': 7, 'n_estimators': 500}"
      ]
     },
     "execution_count": 516,
     "metadata": {},
     "output_type": "execute_result"
    }
   ],
   "source": [
    "grid_search.best_params_"
   ]
  },
  {
   "cell_type": "markdown",
   "metadata": {},
   "source": [
    "Accuracy для разных горизонтов прогнозирования"
   ]
  },
  {
   "cell_type": "code",
   "execution_count": 406,
   "metadata": {},
   "outputs": [
    {
     "name": "stdout",
     "output_type": "stream",
     "text": [
      "0.3 0.725\n",
      "0.25 0.73\n",
      "0.2 0.7875\n",
      "0.18 0.7916666666666666\n",
      "0.16 0.7734375\n",
      "0.15 0.8083333333333333\n",
      "0.14 0.7946428571428571\n",
      "0.11 0.7840909090909091\n",
      "0.1 0.7875\n",
      "0.05 0.65\n",
      "0.04 0.71875\n",
      "0.02 0.75\n"
     ]
    }
   ],
   "source": [
    "sizes = [0.3, 0.25, 0.2, 0.18, 0.16, 0.15, 0.14, 0.11, 0.1, 0.05, 0.04, 0.02]\n",
    "# accuracy = []\n",
    "for size in sizes:\n",
    "    train_x, test_x, train_y, test_y = train_test_split(x, y, test_size = size, random_state = 42)\n",
    "    rf = RandomForestClassifier(max_depth=3, n_estimators=200, random_state = 42)\n",
    "    rf.fit(train_x, train_y)\n",
    "    predict = rf.predict(test_x)\n",
    "    accuracy = accuracy_score(test_y, predict)\n",
    "    print(size, accuracy)"
   ]
  },
  {
   "cell_type": "markdown",
   "metadata": {},
   "source": [
    "Сохраняем одно из деревьев"
   ]
  },
  {
   "cell_type": "code",
   "execution_count": 510,
   "metadata": {},
   "outputs": [],
   "source": [
    "from sklearn.tree import export_graphviz\n",
    "import pydot\n",
    "\n",
    "tree4 = rf.estimators_[100]\n",
    "data_list = list(imoex.drop(columns=['CLASS']).columns)\n",
    "export_graphviz(tree4, out_file='tree4.dot', feature_names=data_list, class_names=True, filled=True, precision = 1)\n",
    "(graph, ) = pydot.graph_from_dot_file('tree4.dot')\n",
    "graph.write_png('tree4.png')"
   ]
  },
  {
   "cell_type": "code",
   "execution_count": 443,
   "metadata": {},
   "outputs": [
    {
     "name": "stdout",
     "output_type": "stream",
     "text": [
      "Collecting pydot\n",
      "  Downloading pydot-1.4.1-py2.py3-none-any.whl (19 kB)\n",
      "Requirement already satisfied: pyparsing>=2.1.4 in ./opt/anaconda3/lib/python3.7/site-packages (from pydot) (2.4.6)\n",
      "Installing collected packages: pydot\n",
      "Successfully installed pydot-1.4.1\n",
      "Note: you may need to restart the kernel to use updated packages.\n"
     ]
    }
   ],
   "source": [
    "pip install pydot"
   ]
  },
  {
   "cell_type": "code",
   "execution_count": 413,
   "metadata": {},
   "outputs": [],
   "source": [
    "# Accuracy с разными параметрами на train set\n",
    "\n",
    "max_depth = [None, 3, 4, 5, 6, 7, 8, 9, 10]\n",
    "n_est = [50, 100, 200, 300, 400, 500, 1000]\n",
    "\n",
    "for depth in max_depth:\n",
    "    for n in n_est:\n",
    "        rf = RandomForestClassifier(max_depth=depth, n_estimators=n, random_state = 42)\n",
    "        rf.fit(train_x, train_y)\n",
    "        predict = rf.predict(train_x)\n",
    "        accuracy = accuracy_score(train_y, predict)\n",
    "        print(depth, n, accuracy)"
   ]
  },
  {
   "cell_type": "code",
   "execution_count": 769,
   "metadata": {},
   "outputs": [
    {
     "name": "stdout",
     "output_type": "stream",
     "text": [
      "None 50 0.75\n",
      "None 100 0.775\n",
      "None 200 0.7916666666666666\n",
      "None 300 0.7833333333333333\n",
      "None 400 0.7833333333333333\n",
      "None 500 0.8\n",
      "None 1000 0.7916666666666666\n",
      "3 50 0.8\n",
      "3 100 0.7916666666666666\n",
      "3 200 0.8083333333333333\n",
      "3 300 0.8083333333333333\n",
      "3 400 0.8083333333333333\n",
      "3 500 0.8\n",
      "3 1000 0.8083333333333333\n",
      "4 50 0.8\n",
      "4 100 0.8\n",
      "4 200 0.8\n",
      "4 300 0.7916666666666666\n",
      "4 400 0.8\n",
      "4 500 0.8166666666666667\n",
      "4 1000 0.8083333333333333\n",
      "5 50 0.7916666666666666\n",
      "5 100 0.8\n",
      "5 200 0.775\n",
      "5 300 0.775\n",
      "5 400 0.775\n",
      "5 500 0.7833333333333333\n",
      "5 1000 0.7916666666666666\n",
      "6 50 0.775\n",
      "6 100 0.7916666666666666\n",
      "6 200 0.7833333333333333\n",
      "6 300 0.7916666666666666\n",
      "6 400 0.7916666666666666\n",
      "6 500 0.7916666666666666\n",
      "6 1000 0.7833333333333333\n",
      "7 50 0.775\n",
      "7 100 0.7916666666666666\n",
      "7 200 0.7916666666666666\n",
      "7 300 0.8\n",
      "7 400 0.8\n",
      "7 500 0.8\n",
      "7 1000 0.8\n",
      "8 50 0.775\n",
      "8 100 0.7916666666666666\n",
      "8 200 0.775\n",
      "8 300 0.7833333333333333\n",
      "8 400 0.7833333333333333\n",
      "8 500 0.7833333333333333\n",
      "8 1000 0.7833333333333333\n",
      "9 50 0.75\n",
      "9 100 0.75\n",
      "9 200 0.775\n",
      "9 300 0.775\n",
      "9 400 0.7833333333333333\n",
      "9 500 0.7833333333333333\n",
      "9 1000 0.7833333333333333\n",
      "10 50 0.7833333333333333\n",
      "10 100 0.775\n",
      "10 200 0.8\n",
      "10 300 0.8083333333333333\n",
      "10 400 0.7916666666666666\n",
      "10 500 0.7833333333333333\n",
      "10 1000 0.8\n"
     ]
    }
   ],
   "source": [
    "# Accuracy с разными параметрами на test set\n",
    "\n",
    "max_depth = [None, 3, 4, 5, 6, 7, 8, 9, 10]\n",
    "n_est = [50, 100, 200, 300, 400, 500, 1000]\n",
    "\n",
    "for depth in max_depth:\n",
    "    for n in n_est:\n",
    "        rf = RandomForestClassifier(max_depth=depth, n_estimators=n, random_state = 42)\n",
    "        rf.fit(train_x, train_y)\n",
    "        predict = rf.predict(test_x)\n",
    "        accuracy = accuracy_score(test_y, predict)\n",
    "        print(depth, n, accuracy)"
   ]
  },
  {
   "cell_type": "markdown",
   "metadata": {},
   "source": [
    "### Графики"
   ]
  },
  {
   "cell_type": "code",
   "execution_count": 475,
   "metadata": {},
   "outputs": [],
   "source": [
    "import matplotlib.pyplot as plt\n",
    "from matplotlib.colors import ListedColormap"
   ]
  },
  {
   "cell_type": "code",
   "execution_count": 496,
   "metadata": {},
   "outputs": [],
   "source": [
    "x = train_x\n",
    "y = train_y\n",
    "\n",
    "x_min, x_max = x[:, 0].min() - 1, x[:, 0].max() + 1\n",
    "y_min, y_max = x[:, 1].min() - 1, x[:, 1].max() + 1\n",
    "xx, yy = np.meshgrid(np.arange(x_min, x_max, 0.02), np.arange(y_min, y_max, 0.02))"
   ]
  },
  {
   "cell_type": "markdown",
   "metadata": {},
   "source": [
    "#### Сравнение с ARIMA-GARCH"
   ]
  },
  {
   "cell_type": "code",
   "execution_count": 608,
   "metadata": {},
   "outputs": [],
   "source": [
    "comp = pd.read_csv('to compare.csv', sep=';')"
   ]
  },
  {
   "cell_type": "code",
   "execution_count": 609,
   "metadata": {},
   "outputs": [
    {
     "data": {
      "text/plain": [
       "(120,)"
      ]
     },
     "execution_count": 609,
     "metadata": {},
     "output_type": "execute_result"
    }
   ],
   "source": [
    "garch = []\n",
    "for i in comp['return']:\n",
    "    if i < 0:\n",
    "        sign = -1\n",
    "    else:\n",
    "        sign = 1\n",
    "    garch.append(sign)\n",
    "\n",
    "garch = np.array(garch)\n",
    "garch.shape"
   ]
  },
  {
   "cell_type": "markdown",
   "metadata": {},
   "source": [
    "Рассчитаем MSE и accuracy для обеих моделей"
   ]
  },
  {
   "cell_type": "code",
   "execution_count": 610,
   "metadata": {},
   "outputs": [
    {
     "name": "stdout",
     "output_type": "stream",
     "text": [
      "MSE RF: 92 MSE TS: 280\n"
     ]
    }
   ],
   "source": [
    "dif_rf = []\n",
    "dif_ts = []\n",
    "\n",
    "for i in range(len(test_y)):\n",
    "    dif1 = (test_y[i] - predict[i])**2\n",
    "    dif2 = (test_y[i] - garch[i])**2\n",
    "    dif_rf.append(dif1)\n",
    "    dif_ts.append(dif2)\n",
    "\n",
    "mse_rf = sum(dif_rf)\n",
    "mse_ts = sum(dif_ts)\n",
    "\n",
    "print('MSE RF:', mse_rf, 'MSE TS:', mse_ts)"
   ]
  },
  {
   "cell_type": "code",
   "execution_count": 612,
   "metadata": {},
   "outputs": [
    {
     "data": {
      "text/plain": [
       "0.4166666666666667"
      ]
     },
     "execution_count": 612,
     "metadata": {},
     "output_type": "execute_result"
    }
   ],
   "source": [
    "garch = np.array(garch)\n",
    "accuracy_score(test_y, garch)"
   ]
  },
  {
   "cell_type": "code",
   "execution_count": 613,
   "metadata": {},
   "outputs": [
    {
     "data": {
      "text/plain": [
       "(120,)"
      ]
     },
     "execution_count": 613,
     "metadata": {},
     "output_type": "execute_result"
    }
   ],
   "source": [
    "garch.shape"
   ]
  },
  {
   "cell_type": "code",
   "execution_count": 614,
   "metadata": {},
   "outputs": [
    {
     "data": {
      "text/plain": [
       "(120,)"
      ]
     },
     "execution_count": 614,
     "metadata": {},
     "output_type": "execute_result"
    }
   ],
   "source": [
    "test_y.shape"
   ]
  },
  {
   "cell_type": "markdown",
   "metadata": {},
   "source": [
    "График"
   ]
  },
  {
   "cell_type": "code",
   "execution_count": 742,
   "metadata": {},
   "outputs": [
    {
     "data": {
      "image/png": "[encoded data removed]",
      "text/plain": [
       "<Figure size 432x288 with 1 Axes>"
      ]
     },
     "metadata": {
      "needs_background": "light"
     },
     "output_type": "display_data"
    }
   ],
   "source": [
    "n = 120\n",
    "xaxis = range(n)\n",
    "\n",
    "plt.plot(xaxis, test_y[:n], label = 'IMOEX', linewidth = 1)\n",
    "plt.xlabel('Наблюдение')\n",
    "plt.ylabel('Класс')\n",
    "plt.legend()\n",
    "\n",
    "plt.savefig('1')"
   ]
  },
  {
   "cell_type": "code",
   "execution_count": 764,
   "metadata": {},
   "outputs": [
    {
     "data": {
      "image/png": "[encoded data removed]",
      "text/plain": [
       "<Figure size 432x288 with 1 Axes>"
      ]
     },
     "metadata": {
      "needs_background": "light"
     },
     "output_type": "display_data"
    }
   ],
   "source": [
    "plt.plot(xaxis, test_y[:n], label = 'IMOEX', color = 'k', linewidth = 1)\n",
    "plt.plot(predict[:n], label = 'Random Forest', color = 'r', linewidth = 1)\n",
    "plt.xlabel('Наблюдение')\n",
    "plt.ylabel('Класс')\n",
    "plt.legend()\n",
    "\n",
    "plt.savefig('2')"
   ]
  },
  {
   "cell_type": "code",
   "execution_count": 768,
   "metadata": {},
   "outputs": [
    {
     "data": {
      "image/png": "[encoded data removed]",
      "text/plain": [
       "<Figure size 432x288 with 1 Axes>"
      ]
     },
     "metadata": {
      "needs_background": "light"
     },
     "output_type": "display_data"
    }
   ],
   "source": [
    "plt.plot(xaxis, test_y[:n], label = 'IMOEX', color = 'k', linewidth = 1) \n",
    "plt.plot(xaxis, garch[:n], label = 'ARIMA-GARCH', color = 'm', linewidth = 1)\n",
    "plt.xlabel('Наблюдение')\n",
    "plt.ylabel('Класс')\n",
    "plt.legend()\n",
    "\n",
    "plt.savefig('3')"
   ]
  },
  {
   "cell_type": "code",
   "execution_count": 757,
   "metadata": {},
   "outputs": [
    {
     "data": {
      "text/plain": [
       "<matplotlib.legend.Legend at 0x1a8e8ece50>"
      ]
     },
     "execution_count": 757,
     "metadata": {},
     "output_type": "execute_result"
    },
    {
     "data": {
      "image/png": "[encoded data removed]",
      "text/plain": [
       "<Figure size 432x288 with 1 Axes>"
      ]
     },
     "metadata": {
      "needs_background": "light"
     },
     "output_type": "display_data"
    }
   ],
   "source": [
    "plt.plot(xaxis, test_y[:n], label = 'IMOEX', linewidth = 0.5)\n",
    "plt.plot(xaxis, predict[:n], label = 'Random Forest', color = 'r', linewidth = 0.5)\n",
    "plt.plot(xaxis, garch[:n], label = 'ARIMA-GARCH', color = 'g', linewidth = 0.5)\n",
    "\n",
    "plt.xlabel('Наблюдение')\n",
    "plt.ylabel('Класс')\n",
    "plt.legend()\n",
    "\n",
    "# plt.savefig('4')"
   ]
  },
  {
   "cell_type": "code",
   "execution_count": 644,
   "metadata": {},
   "outputs": [
    {
     "data": {
      "text/html": [
       "<div>\n",
       "<style scoped>\n",
       "    .dataframe tbody tr th:only-of-type {\n",
       "        vertical-align: middle;\n",
       "    }\n",
       "\n",
       "    .dataframe tbody tr th {\n",
       "        vertical-align: top;\n",
       "    }\n",
       "\n",
       "    .dataframe thead th {\n",
       "        text-align: right;\n",
       "    }\n",
       "</style>\n",
       "<table border=\"1\" class=\"dataframe\">\n",
       "  <thead>\n",
       "    <tr style=\"text-align: right;\">\n",
       "      <th></th>\n",
       "      <th>PRICE</th>\n",
       "      <th>DATE</th>\n",
       "      <th>RETURN</th>\n",
       "    </tr>\n",
       "  </thead>\n",
       "  <tbody>\n",
       "    <tr>\n",
       "      <th>0</th>\n",
       "      <td>2285.43</td>\n",
       "      <td>03.01.2017</td>\n",
       "      <td>0.000000</td>\n",
       "    </tr>\n",
       "    <tr>\n",
       "      <th>1</th>\n",
       "      <td>2263.90</td>\n",
       "      <td>04.01.2017</td>\n",
       "      <td>-0.009421</td>\n",
       "    </tr>\n",
       "    <tr>\n",
       "      <th>2</th>\n",
       "      <td>2220.35</td>\n",
       "      <td>05.01.2017</td>\n",
       "      <td>-0.019237</td>\n",
       "    </tr>\n",
       "    <tr>\n",
       "      <th>3</th>\n",
       "      <td>2213.93</td>\n",
       "      <td>06.01.2017</td>\n",
       "      <td>-0.002891</td>\n",
       "    </tr>\n",
       "    <tr>\n",
       "      <th>4</th>\n",
       "      <td>2211.25</td>\n",
       "      <td>09.01.2017</td>\n",
       "      <td>-0.001211</td>\n",
       "    </tr>\n",
       "    <tr>\n",
       "      <th>...</th>\n",
       "      <td>...</td>\n",
       "      <td>...</td>\n",
       "      <td>...</td>\n",
       "    </tr>\n",
       "    <tr>\n",
       "      <th>814</th>\n",
       "      <td>2489.97</td>\n",
       "      <td>26.03.2020</td>\n",
       "      <td>0.015200</td>\n",
       "    </tr>\n",
       "    <tr>\n",
       "      <th>815</th>\n",
       "      <td>2401.11</td>\n",
       "      <td>27.03.2020</td>\n",
       "      <td>-0.035687</td>\n",
       "    </tr>\n",
       "    <tr>\n",
       "      <th>816</th>\n",
       "      <td>2433.35</td>\n",
       "      <td>30.03.2020</td>\n",
       "      <td>0.013427</td>\n",
       "    </tr>\n",
       "    <tr>\n",
       "      <th>817</th>\n",
       "      <td>2508.81</td>\n",
       "      <td>31.03.2020</td>\n",
       "      <td>0.031011</td>\n",
       "    </tr>\n",
       "    <tr>\n",
       "      <th>818</th>\n",
       "      <td>2473.61</td>\n",
       "      <td>01.04.2020</td>\n",
       "      <td>-0.014031</td>\n",
       "    </tr>\n",
       "  </tbody>\n",
       "</table>\n",
       "<p>819 rows × 3 columns</p>\n",
       "</div>"
      ],
      "text/plain": [
       "       PRICE        DATE    RETURN\n",
       "0    2285.43  03.01.2017  0.000000\n",
       "1    2263.90  04.01.2017 -0.009421\n",
       "2    2220.35  05.01.2017 -0.019237\n",
       "3    2213.93  06.01.2017 -0.002891\n",
       "4    2211.25  09.01.2017 -0.001211\n",
       "..       ...         ...       ...\n",
       "814  2489.97  26.03.2020  0.015200\n",
       "815  2401.11  27.03.2020 -0.035687\n",
       "816  2433.35  30.03.2020  0.013427\n",
       "817  2508.81  31.03.2020  0.031011\n",
       "818  2473.61  01.04.2020 -0.014031\n",
       "\n",
       "[819 rows x 3 columns]"
      ]
     },
     "execution_count": 644,
     "metadata": {},
     "output_type": "execute_result"
    }
   ],
   "source": [
    "data"
   ]
  },
  {
   "cell_type": "code",
   "execution_count": 647,
   "metadata": {},
   "outputs": [],
   "source": [
    "dtest = data.drop(range(699))"
   ]
  },
  {
   "cell_type": "code",
   "execution_count": 648,
   "metadata": {},
   "outputs": [],
   "source": [
    "dtest['RF'] = predict\n",
    "dtest['TS'] = garch"
   ]
  },
  {
   "cell_type": "code",
   "execution_count": 772,
   "metadata": {},
   "outputs": [
    {
     "data": {
      "text/html": [
       "<div>\n",
       "<style scoped>\n",
       "    .dataframe tbody tr th:only-of-type {\n",
       "        vertical-align: middle;\n",
       "    }\n",
       "\n",
       "    .dataframe tbody tr th {\n",
       "        vertical-align: top;\n",
       "    }\n",
       "\n",
       "    .dataframe thead th {\n",
       "        text-align: right;\n",
       "    }\n",
       "</style>\n",
       "<table border=\"1\" class=\"dataframe\">\n",
       "  <thead>\n",
       "    <tr style=\"text-align: right;\">\n",
       "      <th></th>\n",
       "      <th>PRICE</th>\n",
       "      <th>DATE</th>\n",
       "      <th>RETURN</th>\n",
       "      <th>RF</th>\n",
       "      <th>TS</th>\n",
       "      <th>rev_rf</th>\n",
       "      <th>rev_ts</th>\n",
       "      <th>sumtev_rf</th>\n",
       "    </tr>\n",
       "  </thead>\n",
       "  <tbody>\n",
       "    <tr>\n",
       "      <th>814</th>\n",
       "      <td>2489.97</td>\n",
       "      <td>26.03.2020</td>\n",
       "      <td>0.015200</td>\n",
       "      <td>1</td>\n",
       "      <td>1</td>\n",
       "      <td>0.015200</td>\n",
       "      <td>0.015200</td>\n",
       "      <td>0.030630</td>\n",
       "    </tr>\n",
       "    <tr>\n",
       "      <th>815</th>\n",
       "      <td>2401.11</td>\n",
       "      <td>27.03.2020</td>\n",
       "      <td>-0.035687</td>\n",
       "      <td>1</td>\n",
       "      <td>-1</td>\n",
       "      <td>-0.035687</td>\n",
       "      <td>0.035687</td>\n",
       "      <td>-0.021030</td>\n",
       "    </tr>\n",
       "    <tr>\n",
       "      <th>816</th>\n",
       "      <td>2433.35</td>\n",
       "      <td>30.03.2020</td>\n",
       "      <td>0.013427</td>\n",
       "      <td>-1</td>\n",
       "      <td>1</td>\n",
       "      <td>-0.013427</td>\n",
       "      <td>0.013427</td>\n",
       "      <td>-0.048635</td>\n",
       "    </tr>\n",
       "    <tr>\n",
       "      <th>817</th>\n",
       "      <td>2508.81</td>\n",
       "      <td>31.03.2020</td>\n",
       "      <td>0.031011</td>\n",
       "      <td>-1</td>\n",
       "      <td>1</td>\n",
       "      <td>-0.031011</td>\n",
       "      <td>0.031011</td>\n",
       "      <td>-0.044021</td>\n",
       "    </tr>\n",
       "    <tr>\n",
       "      <th>818</th>\n",
       "      <td>2473.61</td>\n",
       "      <td>01.04.2020</td>\n",
       "      <td>-0.014031</td>\n",
       "      <td>1</td>\n",
       "      <td>-1</td>\n",
       "      <td>-0.014031</td>\n",
       "      <td>0.014031</td>\n",
       "      <td>-0.044606</td>\n",
       "    </tr>\n",
       "  </tbody>\n",
       "</table>\n",
       "</div>"
      ],
      "text/plain": [
       "       PRICE        DATE    RETURN  RF  TS    rev_rf    rev_ts  sumtev_rf\n",
       "814  2489.97  26.03.2020  0.015200   1   1  0.015200  0.015200   0.030630\n",
       "815  2401.11  27.03.2020 -0.035687   1  -1 -0.035687  0.035687  -0.021030\n",
       "816  2433.35  30.03.2020  0.013427  -1   1 -0.013427  0.013427  -0.048635\n",
       "817  2508.81  31.03.2020  0.031011  -1   1 -0.031011  0.031011  -0.044021\n",
       "818  2473.61  01.04.2020 -0.014031   1  -1 -0.014031  0.014031  -0.044606"
      ]
     },
     "execution_count": 772,
     "metadata": {},
     "output_type": "execute_result"
    }
   ],
   "source": [
    "dtest['sumtev_rf'] = sr_rf\n",
    "dtest.tail()"
   ]
  },
  {
   "cell_type": "code",
   "execution_count": 650,
   "metadata": {},
   "outputs": [],
   "source": [
    "dtest['rev_rf'] = dtest['RETURN'] * dtest['RF']\n",
    "dtest['rev_ts'] = dtest['RETURN'] * dtest['TS']"
   ]
  },
  {
   "cell_type": "code",
   "execution_count": 657,
   "metadata": {},
   "outputs": [
    {
     "data": {
      "text/plain": [
       "[-0.004166636020623504,\n",
       " -0.006053206434198044,\n",
       " 0.0012289616003304804,\n",
       " -0.0018245350200144506,\n",
       " -0.008837005926856767,\n",
       " -0.010490866188835657,\n",
       " -0.017241626784917585,\n",
       " -0.009167058644878656,\n",
       " 7.287700183988832e-06,\n",
       " 0.0014350508264739936,\n",
       " 0.017915587505584973,\n",
       " 0.02188580844937782,\n",
       " 0.026700163798117904,\n",
       " 0.020949255381736753,\n",
       " 0.007014756083136842,\n",
       " 0.016152084574512227,\n",
       " 0.018985547322107,\n",
       " 0.002598320445663882,\n",
       " 0.006612507084829078,\n",
       " 0.019201929522664418,\n",
       " -0.004142779142779163,\n",
       " -0.0014142957661605893,\n",
       " 0.021151755880892464,\n",
       " 0.007758271553056195,\n",
       " -0.0074095500119401025,\n",
       " -0.009309597293227001,\n",
       " -0.009728377993738047,\n",
       " 0.0003169852993807343,\n",
       " 0.0077708771749733785,\n",
       " -0.0023823259368905836,\n",
       " -0.004120759229602866,\n",
       " -0.00031675462833768986,\n",
       " -0.0038103010662360326,\n",
       " -0.004313758788957678,\n",
       " -0.010928015483012476,\n",
       " -0.008889054315607159,\n",
       " -3.07102251400071e-05,\n",
       " 0.0031709552257837004,\n",
       " -0.002182697595617067,\n",
       " -0.017677498918364565,\n",
       " -0.007024558568797579,\n",
       " 0.006433198773703852,\n",
       " -0.009697052011484186,\n",
       " -0.015663342902590527,\n",
       " -0.009820009004142483,\n",
       " 0.0031816314265049606,\n",
       " 0.017207747919792737,\n",
       " 0.014293934470620107,\n",
       " 0.0014214545771509268,\n",
       " -0.00554449283269165,\n",
       " 0.0011475420197790687,\n",
       " -0.0016261295792970865,\n",
       " -0.007629170083864656,\n",
       " 0.003407336789783999,\n",
       " 0.004860855523835195,\n",
       " -0.0011437763076791452,\n",
       " 0.0001913366949217732,\n",
       " -0.0059290493724512006,\n",
       " -0.004702589483495001,\n",
       " -0.008520695088287344,\n",
       " -0.01081806793774498,\n",
       " -0.01093475371943664,\n",
       " -0.007577735038061029,\n",
       " 0.004372905988951903,\n",
       " 0.010779069170771871,\n",
       " 0.015990856879430027,\n",
       " 0.0060348380651154,\n",
       " -0.008759455753042045,\n",
       " -0.0203126838908132,\n",
       " -0.01967499446372345,\n",
       " -0.003907912335076147,\n",
       " -0.007494199461518636,\n",
       " -0.021195181383638295,\n",
       " -0.008952252553061424,\n",
       " -0.017840315802877704,\n",
       " -0.02828173669823908,\n",
       " -0.014053788371191422,\n",
       " -0.011473154153527676,\n",
       " -0.016667732037841998,\n",
       " -0.012140591524104183,\n",
       " -0.010586189524320111,\n",
       " -0.014042517060101734,\n",
       " 0.00023635324109982925,\n",
       " 0.008580780641649355,\n",
       " 0.011114432939831387,\n",
       " -0.0034101476216763515,\n",
       " -0.019363618280245798,\n",
       " -0.004088115363532041,\n",
       " -0.00033741318218805105,\n",
       " 3.215382389454291e-06,\n",
       " 0.01588372813928851,\n",
       " 0.024912483297910848,\n",
       " 0.01660675655893673,\n",
       " -0.0027419515374514924,\n",
       " -0.03917314645931336,\n",
       " -0.028528378669877563,\n",
       " 0.03873872673744794,\n",
       " 0.08001890732443417,\n",
       " 0.05208900894773838,\n",
       " -0.013308908192818714,\n",
       " -0.022409055892750995,\n",
       " -0.006343333054366851,\n",
       " -0.038366200968172004,\n",
       " -0.11281286611992758,\n",
       " -0.07887818026041471,\n",
       " 0.0854537820329262,\n",
       " 0.09702627568970756,\n",
       " 0.03475332400279929,\n",
       " 0.002365558958284497,\n",
       " 0.030852706339053126,\n",
       " -0.03068423273840626,\n",
       " -0.09985506168247005,\n",
       " -0.057308426059134,\n",
       " -0.103310587962824,\n",
       " -0.05806611427444186,\n",
       " 0.030629519406284,\n",
       " -0.021029971174506445,\n",
       " -0.048635124117961004,\n",
       " -0.04402148467399147,\n",
       " -0.04460620479596289]"
      ]
     },
     "execution_count": 657,
     "metadata": {},
     "output_type": "execute_result"
    }
   ],
   "source": [
    "# sumrev_rf = []\n",
    "# sumrev_ts = []\n",
    "\n",
    "def sumret(rev):\n",
    "    prev = 0\n",
    "    sumrev = []\n",
    "    for i in rev:\n",
    "        cur = (1 + prev) * (1 + i) - 1\n",
    "        sumrev.append(cur)\n",
    "        prev = i\n",
    "    return sumrev\n",
    "\n",
    "sr_rf = sumret(dtest['rev_rf'])\n",
    "sr_ts = sumret(dtest['rev_ts'])\n",
    "bh = sumret(dtest['RETURN'])\n",
    "\n",
    "sr_rf"
   ]
  },
  {
   "cell_type": "code",
   "execution_count": 731,
   "metadata": {},
   "outputs": [
    {
     "data": {
      "image/png": "[encoded data removed]",
      "text/plain": [
       "<Figure size 1080x288 with 1 Axes>"
      ]
     },
     "metadata": {
      "needs_background": "light"
     },
     "output_type": "display_data"
    }
   ],
   "source": [
    "fig, ax = plt.subplots()\n",
    "\n",
    "ax.plot(data['DATE'][699:], sr_rf, label = 'Random Forest', color = 'r', linewidth = 1)\n",
    "ax.plot(data['DATE'][699:], bh, label = 'Buy & Hold', color = 'b', linewidth = 1)\n",
    "ax.xaxis.set_major_locator(ticker.MultipleLocator(2))\n",
    "ax.tick_params(labelrotation = 90)\n",
    "fig.set_figwidth(15)\n",
    "plt.xlabel('Дата')\n",
    "plt.ylabel('Доходность')\n",
    "ax.legend()\n",
    "\n",
    "fig.savefig('RF')"
   ]
  },
  {
   "cell_type": "code",
   "execution_count": 734,
   "metadata": {},
   "outputs": [
    {
     "data": {
      "image/png": "[encoded data removed]",
      "text/plain": [
       "<Figure size 1080x288 with 1 Axes>"
      ]
     },
     "metadata": {
      "needs_background": "light"
     },
     "output_type": "display_data"
    }
   ],
   "source": [
    "fig, ax = plt.subplots()\n",
    "\n",
    "ax.plot(data['DATE'][699:], sr_ts,label = 'ARIMA-GARCH', color = 'r', linewidth = 1)\n",
    "ax.plot(data['DATE'][699:], bh, label = 'Buy & Hold', color = 'b', linewidth = 1)\n",
    "ax.xaxis.set_major_locator(ticker.MultipleLocator(2))\n",
    "ax.tick_params(labelrotation = 90)\n",
    "fig.set_figwidth(15)\n",
    "plt.xlabel('Дата')\n",
    "plt.ylabel('Доходность')\n",
    "ax.legend()\n",
    "\n",
    "fig.savefig('TS.png')"
   ]
  },
  {
   "cell_type": "code",
   "execution_count": null,
   "metadata": {},
   "outputs": [],
   "source": []
  }
 ],
 "metadata": {
  "kernelspec": {
   "display_name": "Python 3",
   "language": "python",
   "name": "python3"
  },
  "language_info": {
   "codemirror_mode": {
    "name": "ipython",
    "version": 3
   },
   "file_extension": ".py",
   "mimetype": "text/x-python",
   "name": "python",
   "nbconvert_exporter": "python",
   "pygments_lexer": "ipython3",
   "version": "3.8.3"
  }
 },
 "nbformat": 4,
 "nbformat_minor": 4
}
